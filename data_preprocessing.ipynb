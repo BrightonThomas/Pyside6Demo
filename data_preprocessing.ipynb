{
 "cells": [
  {
   "cell_type": "code",
   "execution_count": 1,
   "id": "374df74c-b9ce-4524-9cea-61ed0d463a83",
   "metadata": {},
   "outputs": [],
   "source": [
    "import geopandas as gpd\n",
    "import pandas as pd"
   ]
  },
  {
   "cell_type": "code",
   "execution_count": 2,
   "id": "076dd933-6222-4f6c-9445-9a21dc4232a2",
   "metadata": {},
   "outputs": [],
   "source": [
    "gdf = gpd.read_file('all_month.geojson')\n",
    "df = pd.DataFrame(gdf)"
   ]
  },
  {
   "cell_type": "code",
   "execution_count": 3,
   "id": "82586cb2-1ac6-44b9-bba3-7c9b4338ecca",
   "metadata": {},
   "outputs": [
    {
     "data": {
      "text/html": [
       "<div>\n",
       "<style scoped>\n",
       "    .dataframe tbody tr th:only-of-type {\n",
       "        vertical-align: middle;\n",
       "    }\n",
       "\n",
       "    .dataframe tbody tr th {\n",
       "        vertical-align: top;\n",
       "    }\n",
       "\n",
       "    .dataframe thead th {\n",
       "        text-align: right;\n",
       "    }\n",
       "</style>\n",
       "<table border=\"1\" class=\"dataframe\">\n",
       "  <thead>\n",
       "    <tr style=\"text-align: right;\">\n",
       "      <th></th>\n",
       "      <th>id</th>\n",
       "      <th>mag</th>\n",
       "      <th>place</th>\n",
       "      <th>time</th>\n",
       "      <th>updated</th>\n",
       "      <th>tz</th>\n",
       "      <th>url</th>\n",
       "      <th>detail</th>\n",
       "      <th>felt</th>\n",
       "      <th>cdi</th>\n",
       "      <th>...</th>\n",
       "      <th>sources</th>\n",
       "      <th>types</th>\n",
       "      <th>nst</th>\n",
       "      <th>dmin</th>\n",
       "      <th>rms</th>\n",
       "      <th>gap</th>\n",
       "      <th>magType</th>\n",
       "      <th>type</th>\n",
       "      <th>title</th>\n",
       "      <th>geometry</th>\n",
       "    </tr>\n",
       "  </thead>\n",
       "  <tbody>\n",
       "    <tr>\n",
       "      <th>0</th>\n",
       "      <td>nn00900137</td>\n",
       "      <td>1.80</td>\n",
       "      <td>41 km E of Tonopah, Nevada</td>\n",
       "      <td>1751723795778</td>\n",
       "      <td>1751723948240</td>\n",
       "      <td>None</td>\n",
       "      <td>https://earthquake.usgs.gov/earthquakes/eventp...</td>\n",
       "      <td>https://earthquake.usgs.gov/earthquakes/feed/v...</td>\n",
       "      <td>NaN</td>\n",
       "      <td>NaN</td>\n",
       "      <td>...</td>\n",
       "      <td>,nn,</td>\n",
       "      <td>,origin,phase-data,</td>\n",
       "      <td>24.0</td>\n",
       "      <td>0.36700</td>\n",
       "      <td>0.243</td>\n",
       "      <td>123.93</td>\n",
       "      <td>ml</td>\n",
       "      <td>earthquake</td>\n",
       "      <td>M 1.8 - 41 km E of Tonopah, Nevada</td>\n",
       "      <td>POINT Z (-116.7561 38.0621 9.7)</td>\n",
       "    </tr>\n",
       "    <tr>\n",
       "      <th>1</th>\n",
       "      <td>ci41014831</td>\n",
       "      <td>1.09</td>\n",
       "      <td>6 km SE of Redlands, CA</td>\n",
       "      <td>1751723357550</td>\n",
       "      <td>1751723569042</td>\n",
       "      <td>None</td>\n",
       "      <td>https://earthquake.usgs.gov/earthquakes/eventp...</td>\n",
       "      <td>https://earthquake.usgs.gov/earthquakes/feed/v...</td>\n",
       "      <td>NaN</td>\n",
       "      <td>NaN</td>\n",
       "      <td>...</td>\n",
       "      <td>,ci,</td>\n",
       "      <td>,nearby-cities,origin,phase-data,scitech-link,</td>\n",
       "      <td>58.0</td>\n",
       "      <td>0.03590</td>\n",
       "      <td>0.190</td>\n",
       "      <td>33.00</td>\n",
       "      <td>ml</td>\n",
       "      <td>earthquake</td>\n",
       "      <td>M 1.1 - 6 km SE of Redlands, CA</td>\n",
       "      <td>POINT Z (-117.14233 34.0095 3.6)</td>\n",
       "    </tr>\n",
       "    <tr>\n",
       "      <th>2</th>\n",
       "      <td>tx2025ncpvzy</td>\n",
       "      <td>2.20</td>\n",
       "      <td>30 km NW of Toyah, Texas</td>\n",
       "      <td>1751721586215</td>\n",
       "      <td>1751721777365</td>\n",
       "      <td>None</td>\n",
       "      <td>https://earthquake.usgs.gov/earthquakes/eventp...</td>\n",
       "      <td>https://earthquake.usgs.gov/earthquakes/feed/v...</td>\n",
       "      <td>NaN</td>\n",
       "      <td>NaN</td>\n",
       "      <td>...</td>\n",
       "      <td>,tx,</td>\n",
       "      <td>,origin,phase-data,</td>\n",
       "      <td>28.0</td>\n",
       "      <td>0.00000</td>\n",
       "      <td>0.500</td>\n",
       "      <td>61.00</td>\n",
       "      <td>ml</td>\n",
       "      <td>earthquake</td>\n",
       "      <td>M 2.2 - 30 km NW of Toyah, Texas</td>\n",
       "      <td>POINT Z (-104.016 31.518 4.5904)</td>\n",
       "    </tr>\n",
       "    <tr>\n",
       "      <th>3</th>\n",
       "      <td>ci41014807</td>\n",
       "      <td>1.10</td>\n",
       "      <td>6 km WSW of Anza, CA</td>\n",
       "      <td>1751721402540</td>\n",
       "      <td>1751721612390</td>\n",
       "      <td>None</td>\n",
       "      <td>https://earthquake.usgs.gov/earthquakes/eventp...</td>\n",
       "      <td>https://earthquake.usgs.gov/earthquakes/feed/v...</td>\n",
       "      <td>NaN</td>\n",
       "      <td>NaN</td>\n",
       "      <td>...</td>\n",
       "      <td>,ci,</td>\n",
       "      <td>,nearby-cities,origin,phase-data,scitech-link,</td>\n",
       "      <td>61.0</td>\n",
       "      <td>0.03855</td>\n",
       "      <td>0.170</td>\n",
       "      <td>28.00</td>\n",
       "      <td>ml</td>\n",
       "      <td>earthquake</td>\n",
       "      <td>M 1.1 - 6 km WSW of Anza, CA</td>\n",
       "      <td>POINT Z (-116.72567 33.528 5.14)</td>\n",
       "    </tr>\n",
       "    <tr>\n",
       "      <th>4</th>\n",
       "      <td>tx2025ncproy</td>\n",
       "      <td>1.70</td>\n",
       "      <td>36 km ESE of Malaga, New Mexico</td>\n",
       "      <td>1751721276176</td>\n",
       "      <td>1751724113309</td>\n",
       "      <td>None</td>\n",
       "      <td>https://earthquake.usgs.gov/earthquakes/eventp...</td>\n",
       "      <td>https://earthquake.usgs.gov/earthquakes/feed/v...</td>\n",
       "      <td>NaN</td>\n",
       "      <td>NaN</td>\n",
       "      <td>...</td>\n",
       "      <td>,tx,</td>\n",
       "      <td>,origin,phase-data,</td>\n",
       "      <td>20.0</td>\n",
       "      <td>0.00000</td>\n",
       "      <td>0.600</td>\n",
       "      <td>50.00</td>\n",
       "      <td>ml</td>\n",
       "      <td>earthquake</td>\n",
       "      <td>M 1.7 - 36 km ESE of Malaga, New Mexico</td>\n",
       "      <td>POINT Z (-103.729 32.065 6.4813)</td>\n",
       "    </tr>\n",
       "  </tbody>\n",
       "</table>\n",
       "<p>5 rows × 28 columns</p>\n",
       "</div>"
      ],
      "text/plain": [
       "             id   mag                            place           time  \\\n",
       "0    nn00900137  1.80       41 km E of Tonopah, Nevada  1751723795778   \n",
       "1    ci41014831  1.09          6 km SE of Redlands, CA  1751723357550   \n",
       "2  tx2025ncpvzy  2.20         30 km NW of Toyah, Texas  1751721586215   \n",
       "3    ci41014807  1.10             6 km WSW of Anza, CA  1751721402540   \n",
       "4  tx2025ncproy  1.70  36 km ESE of Malaga, New Mexico  1751721276176   \n",
       "\n",
       "         updated    tz                                                url  \\\n",
       "0  1751723948240  None  https://earthquake.usgs.gov/earthquakes/eventp...   \n",
       "1  1751723569042  None  https://earthquake.usgs.gov/earthquakes/eventp...   \n",
       "2  1751721777365  None  https://earthquake.usgs.gov/earthquakes/eventp...   \n",
       "3  1751721612390  None  https://earthquake.usgs.gov/earthquakes/eventp...   \n",
       "4  1751724113309  None  https://earthquake.usgs.gov/earthquakes/eventp...   \n",
       "\n",
       "                                              detail  felt  cdi  ...  sources  \\\n",
       "0  https://earthquake.usgs.gov/earthquakes/feed/v...   NaN  NaN  ...     ,nn,   \n",
       "1  https://earthquake.usgs.gov/earthquakes/feed/v...   NaN  NaN  ...     ,ci,   \n",
       "2  https://earthquake.usgs.gov/earthquakes/feed/v...   NaN  NaN  ...     ,tx,   \n",
       "3  https://earthquake.usgs.gov/earthquakes/feed/v...   NaN  NaN  ...     ,ci,   \n",
       "4  https://earthquake.usgs.gov/earthquakes/feed/v...   NaN  NaN  ...     ,tx,   \n",
       "\n",
       "                                            types   nst     dmin    rms  \\\n",
       "0                             ,origin,phase-data,  24.0  0.36700  0.243   \n",
       "1  ,nearby-cities,origin,phase-data,scitech-link,  58.0  0.03590  0.190   \n",
       "2                             ,origin,phase-data,  28.0  0.00000  0.500   \n",
       "3  ,nearby-cities,origin,phase-data,scitech-link,  61.0  0.03855  0.170   \n",
       "4                             ,origin,phase-data,  20.0  0.00000  0.600   \n",
       "\n",
       "      gap magType        type                                    title  \\\n",
       "0  123.93      ml  earthquake       M 1.8 - 41 km E of Tonopah, Nevada   \n",
       "1   33.00      ml  earthquake          M 1.1 - 6 km SE of Redlands, CA   \n",
       "2   61.00      ml  earthquake         M 2.2 - 30 km NW of Toyah, Texas   \n",
       "3   28.00      ml  earthquake             M 1.1 - 6 km WSW of Anza, CA   \n",
       "4   50.00      ml  earthquake  M 1.7 - 36 km ESE of Malaga, New Mexico   \n",
       "\n",
       "                           geometry  \n",
       "0   POINT Z (-116.7561 38.0621 9.7)  \n",
       "1  POINT Z (-117.14233 34.0095 3.6)  \n",
       "2  POINT Z (-104.016 31.518 4.5904)  \n",
       "3  POINT Z (-116.72567 33.528 5.14)  \n",
       "4  POINT Z (-103.729 32.065 6.4813)  \n",
       "\n",
       "[5 rows x 28 columns]"
      ]
     },
     "execution_count": 3,
     "metadata": {},
     "output_type": "execute_result"
    }
   ],
   "source": [
    "df.head()"
   ]
  },
  {
   "cell_type": "code",
   "execution_count": 4,
   "id": "1be1c03a-2f33-47da-b78e-cc1fb6f967ee",
   "metadata": {
    "scrolled": true
   },
   "outputs": [
    {
     "data": {
      "text/plain": [
       "(9809, 28)"
      ]
     },
     "execution_count": 4,
     "metadata": {},
     "output_type": "execute_result"
    }
   ],
   "source": [
    "df.shape"
   ]
  },
  {
   "cell_type": "code",
   "execution_count": 5,
   "id": "ce7c3286-10fa-4f99-bf56-dd5324676a5d",
   "metadata": {},
   "outputs": [
    {
     "data": {
      "text/plain": [
       "Index(['id', 'mag', 'place', 'time', 'updated', 'tz', 'url', 'detail', 'felt',\n",
       "       'cdi', 'mmi', 'alert', 'status', 'tsunami', 'sig', 'net', 'code', 'ids',\n",
       "       'sources', 'types', 'nst', 'dmin', 'rms', 'gap', 'magType', 'type',\n",
       "       'title', 'geometry'],\n",
       "      dtype='object')"
      ]
     },
     "execution_count": 5,
     "metadata": {},
     "output_type": "execute_result"
    }
   ],
   "source": [
    "df.columns"
   ]
  },
  {
   "cell_type": "code",
   "execution_count": 6,
   "id": "86414a88-aa13-4482-b5b3-e6190ccaf2b2",
   "metadata": {},
   "outputs": [
    {
     "data": {
      "text/plain": [
       "geometry\n",
       "POINT Z (-122.81133 38.8345 1.94)      2\n",
       "POINT Z (-122.01817 38.67367 -0.26)    2\n",
       "POINT Z (-104.38 31.675 6.0999)        2\n",
       "POINT Z (-104.186 31.67 6.0999)        2\n",
       "POINT Z (-103.38 31.939 5.946)         2\n",
       "                                      ..\n",
       "POINT Z (-66.99133 17.9785 6.29)       1\n",
       "POINT Z (-104.189 31.669 4.2405)       1\n",
       "POINT Z (-118.25767 33.68183 6.29)     1\n",
       "POINT Z (-104.186 31.672 3.7942)       1\n",
       "POINT Z (-122.8065 38.83583 2.05)      1\n",
       "Name: count, Length: 9804, dtype: int64"
      ]
     },
     "execution_count": 6,
     "metadata": {},
     "output_type": "execute_result"
    }
   ],
   "source": [
    "df.geometry.value_counts()"
   ]
  },
  {
   "cell_type": "code",
   "execution_count": null,
   "id": "ca16ac39-1be4-4c26-a2c0-c325599edcd5",
   "metadata": {},
   "outputs": [],
   "source": []
  },
  {
   "cell_type": "code",
   "execution_count": 7,
   "id": "41e022f9-380e-4e30-a1b5-710a8d7c2f59",
   "metadata": {},
   "outputs": [],
   "source": [
    "important_columns = [\n",
    "    'mag', 'place', 'time',\n",
    "    'geometry',\n",
    "    'status', 'type', 'title'\n",
    "]\n",
    "\n",
    "# Create new DataFrame with selected columns\n",
    "df_filtered = df[important_columns].copy()"
   ]
  },
  {
   "cell_type": "code",
   "execution_count": 8,
   "id": "c771f339-3fa7-40d8-afd8-2646e5c974e2",
   "metadata": {},
   "outputs": [
    {
     "data": {
      "text/plain": [
       "0         POINT Z (-116.7561 38.0621 9.7)\n",
       "1        POINT Z (-117.14233 34.0095 3.6)\n",
       "2        POINT Z (-104.016 31.518 4.5904)\n",
       "3        POINT Z (-116.72567 33.528 5.14)\n",
       "4        POINT Z (-103.729 32.065 6.4813)\n",
       "                      ...                \n",
       "9804       POINT Z (-151.79 59.8219 62.3)\n",
       "9805     POINT Z (-177.4217 51.7315 12.8)\n",
       "9806       POINT Z (-177.4199 51.6819 10)\n",
       "9807        POINT Z (-114.8253 36.3189 0)\n",
       "9808    POINT Z (-122.8065 38.83583 2.05)\n",
       "Name: geometry, Length: 9809, dtype: geometry"
      ]
     },
     "execution_count": 8,
     "metadata": {},
     "output_type": "execute_result"
    }
   ],
   "source": [
    "df_filtered.geometry"
   ]
  },
  {
   "cell_type": "code",
   "execution_count": 9,
   "id": "8dd00cb8-8e40-4832-8230-cc5c5ac0519c",
   "metadata": {},
   "outputs": [
    {
     "data": {
      "text/plain": [
       "0                       41 km E of Tonopah, Nevada\n",
       "1                          6 km SE of Redlands, CA\n",
       "2                         30 km NW of Toyah, Texas\n",
       "3                             6 km WSW of Anza, CA\n",
       "4                  36 km ESE of Malaga, New Mexico\n",
       "                           ...                    \n",
       "9804              5 km NNE of Anchor Point, Alaska\n",
       "9805                     56 km WSW of Adak, Alaska\n",
       "9806                     58 km WSW of Adak, Alaska\n",
       "9807    22 km ENE of Nellis Air Force Base, Nevada\n",
       "9808                          7 km WNW of Cobb, CA\n",
       "Name: place, Length: 9809, dtype: object"
      ]
     },
     "execution_count": 9,
     "metadata": {},
     "output_type": "execute_result"
    }
   ],
   "source": [
    "df_filtered.place\n"
   ]
  },
  {
   "cell_type": "code",
   "execution_count": 15,
   "id": "5976eb51-086f-47a0-8b7a-334bb3dcf7f6",
   "metadata": {},
   "outputs": [],
   "source": [
    "df_filtered[\"longitude\"] = df_filtered[\"geometry\"].apply(lambda p: p.x)\n",
    "df_filtered[\"latitude\"] = df_filtered[\"geometry\"].apply(lambda p: p.y)"
   ]
  },
  {
   "cell_type": "code",
   "execution_count": 19,
   "id": "3af0079d-fb7a-4523-8724-30815365b8b2",
   "metadata": {},
   "outputs": [
    {
     "data": {
      "text/plain": [
       "status\n",
       "reviewed     7944\n",
       "automatic    1865\n",
       "Name: count, dtype: int64"
      ]
     },
     "execution_count": 19,
     "metadata": {},
     "output_type": "execute_result"
    }
   ],
   "source": [
    "df_filtered.status.value_counts()"
   ]
  },
  {
   "cell_type": "code",
   "execution_count": null,
   "id": "d1740fe4-b63a-4d8f-a564-7678f7fecb3f",
   "metadata": {},
   "outputs": [],
   "source": [
    "df"
   ]
  }
 ],
 "metadata": {
  "kernelspec": {
   "display_name": "Python 3 (ipykernel)",
   "language": "python",
   "name": "python3"
  },
  "language_info": {
   "codemirror_mode": {
    "name": "ipython",
    "version": 3
   },
   "file_extension": ".py",
   "mimetype": "text/x-python",
   "name": "python",
   "nbconvert_exporter": "python",
   "pygments_lexer": "ipython3",
   "version": "3.12.5"
  }
 },
 "nbformat": 4,
 "nbformat_minor": 5
}
